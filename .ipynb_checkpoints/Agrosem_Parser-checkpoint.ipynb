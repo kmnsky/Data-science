{
 "cells": [
  {
   "cell_type": "code",
   "execution_count": 3,
   "metadata": {},
   "outputs": [],
   "source": [
    "import requests\n",
    "import json\n",
    "from bs4 import BeautifulSoup\n",
    "HEADERS = {\n",
    "    'accept': 'text/html,application/xhtml+xml,application/xml;q=0.9,image/avif,image/webp,image/apng,*/*;q=0.8,application/signed-exchange;v=b3;q=0.9',\n",
    "    'user-agent': 'Mozilla/5.0 (iPad; CPU OS 11_0 like Mac OS X) AppleWebKit/604.1.34 (KHTML, like Gecko) Version/11.0 Mobile/15A5341f Safari/604.1'\n",
    "}\n",
    "r = requests.get('https://smallpacking.agrosem.ua/shop/')\n",
    "soup = BeautifulSoup(r.text, 'html.parser')"
   ]
  },
  {
   "cell_type": "code",
   "execution_count": 4,
   "metadata": {},
   "outputs": [],
   "source": [
    "URL = 'https://smallpacking.agrosem.ua/shop/'"
   ]
  },
  {
   "cell_type": "code",
   "execution_count": 5,
   "metadata": {},
   "outputs": [],
   "source": [
    "def get_html(url, params=''):\n",
    "    r = requests.get(url, headers = HEADERS, params=params)\n",
    "    return r"
   ]
  },
  {
   "cell_type": "code",
   "execution_count": 6,
   "metadata": {},
   "outputs": [],
   "source": [
    "def req(href):\n",
    "    r = requests.get(href)\n",
    "    soup = BeautifulSoup(r.text, 'html.parser')\n",
    "    return soup"
   ]
  },
  {
   "cell_type": "code",
   "execution_count": 7,
   "metadata": {
    "scrolled": true
   },
   "outputs": [],
   "source": [
    "def get_content(html):\n",
    "    soup = BeautifulSoup(html, 'html.parser')\n",
    "    all_products = {}\n",
    "    for el in soup.find_all('div', class_=\"product-from-category-container\"):\n",
    "        name =  el.find('span', class_='pruduct-name-bottom').get_text()\n",
    "        all_products[name] = {'href' : el.find('a').get('href')}\n",
    "    for product in all_products:\n",
    "        soup = req(all_products[product]['href'])\n",
    "        page = []\n",
    "        for el in soup.find_all('div', class_=\"atributes-description\"):\n",
    "            page.append(\n",
    "                {\n",
    "                    'info':el.find('table', class_='woocommerce-product-attributes shop_attributes').get_text(),\n",
    "                    'price':el.find('span', class_='regular-price').get_text()\n",
    "                }\n",
    "            )\n",
    "        all_products[product]['page'] = page\n",
    "    return all_products"
   ]
  },
  {
   "cell_type": "code",
   "execution_count": 8,
   "metadata": {},
   "outputs": [],
   "source": [
    "def save_doc(items):\n",
    "    with open('agrosem.txt', 'w') as outfile:\n",
    "        json.dump(items, outfile, sort_keys = True, indent = 4, ensure_ascii = False)"
   ]
  },
  {
   "cell_type": "code",
   "execution_count": 9,
   "metadata": {},
   "outputs": [],
   "source": [
    "def parser():\n",
    "    PAGENATION = int(input('Вкажіть кількість сторінок: '))\n",
    "    html = get_html(URL)\n",
    "    if html.status_code == 200:\n",
    "        cartoons = []\n",
    "        for page in range(1, PAGENATION+1):\n",
    "            print(f'Парсинг сторінки: {page}')\n",
    "            html = get_html(URL, params={'page': page})\n",
    "            cartoons.append(get_content(html.text))\n",
    "        save_doc(cartoons)\n",
    "    else:\n",
    "        print('Error')"
   ]
  },
  {
   "cell_type": "code",
   "execution_count": 10,
   "metadata": {},
   "outputs": [
    {
     "name": "stdout",
     "output_type": "stream",
     "text": [
      "Вкажіть кількість сторінок: 1\n",
      "Парсинг сторінки: 1\n"
     ]
    }
   ],
   "source": [
    "parser()"
   ]
  }
 ],
 "metadata": {
  "kernelspec": {
   "display_name": "Python 3",
   "language": "python",
   "name": "python3"
  },
  "language_info": {
   "codemirror_mode": {
    "name": "ipython",
    "version": 3
   },
   "file_extension": ".py",
   "mimetype": "text/x-python",
   "name": "python",
   "nbconvert_exporter": "python",
   "pygments_lexer": "ipython3",
   "version": "3.8.3"
  }
 },
 "nbformat": 4,
 "nbformat_minor": 4
}
