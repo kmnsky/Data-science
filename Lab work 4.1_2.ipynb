{
 "cells": [
  {
   "cell_type": "markdown",
   "metadata": {},
   "source": [
    "### Завдання 2\n",
    "Ознайомитись з сайтом новин науки http://unian.ua/science\n",
    "\n",
    "За допомогою бібліотеки bs4 отримати 10 новин з блоку \"Всі новини науки і техніки\".\n",
    "Завантажити дату новини, назву та посилання.\n",
    "Інформацію зберегти у файл формату json"
   ]
  },
  {
   "cell_type": "code",
   "execution_count": 11,
   "metadata": {},
   "outputs": [],
   "source": [
    "import requests\n",
    "import json\n",
    "from bs4 import BeautifulSoup\n",
    "HEADERS = {\n",
    "    'accept': 'text/html,application/xhtml+xml,application/xml;q=0.9,image/avif,image/webp,image/apng,*/*;q=0.8,application/signed-exchange;v=b3;q=0.9',\n",
    "    'user-agent': 'Mozilla/5.0 (iPad; CPU OS 11_0 like Mac OS X) AppleWebKit/604.1.34 (KHTML, like Gecko) Version/11.0 Mobile/15A5341f Safari/604.1'\n",
    "}\n",
    "r = requests.get('https://smallpacking.agrosem.ua/shop/')\n",
    "soup = BeautifulSoup(r.text, 'html.parser')"
   ]
  },
  {
   "cell_type": "code",
   "execution_count": 12,
   "metadata": {},
   "outputs": [],
   "source": [
    "URL = 'https://www.unian.ua/science'"
   ]
  },
  {
   "cell_type": "code",
   "execution_count": 13,
   "metadata": {},
   "outputs": [],
   "source": [
    "def get_html(url, params=''):\n",
    "    r = requests.get(url, headers = HEADERS, params=params)\n",
    "    return r"
   ]
  },
  {
   "cell_type": "code",
   "execution_count": 15,
   "metadata": {},
   "outputs": [],
   "source": [
    "def get_content(html):\n",
    "    soup = BeautifulSoup(html, 'html.parser')\n",
    "    items = soup.find_all('div', class_='list-thumbs__info')[0:10]\n",
    "    cartoons = []\n",
    "    for item in items:\n",
    "        cartoons.append(\n",
    "            {\n",
    "                'title':item.find('a', class_='list-thumbs__title').get_text(strip=True),\n",
    "                'link_news':item.find('a').get('href'),\n",
    "                'data':item.find('div', class_='list-thumbs__time time').get_text(),\n",
    "            }\n",
    "        )\n",
    "    return cartoons"
   ]
  },
  {
   "cell_type": "code",
   "execution_count": 16,
   "metadata": {},
   "outputs": [],
   "source": [
    "def save_doc(items):\n",
    "    with open('agrosem.txt', 'w') as outfile:\n",
    "        json.dump(items, outfile, sort_keys = True, indent = 4, ensure_ascii = False)"
   ]
  },
  {
   "cell_type": "code",
   "execution_count": 17,
   "metadata": {},
   "outputs": [],
   "source": [
    "def parser():\n",
    "    PAGENATION = int(input('Вкажіть кількість сторінок: '))\n",
    "    html = get_html(URL)\n",
    "    if html.status_code == 200:\n",
    "        cartoons = []\n",
    "        for page in range(1, PAGENATION+1):\n",
    "            print(f'Парсинг сторінки: {page}')\n",
    "            html = get_html(URL, params={'page': page})\n",
    "            cartoons.append(get_content(html.text))\n",
    "        save_doc(cartoons)\n",
    "        print(cartoons)\n",
    "    else:\n",
    "        print('Error')"
   ]
  },
  {
   "cell_type": "code",
   "execution_count": 19,
   "metadata": {},
   "outputs": [
    {
     "name": "stdout",
     "output_type": "stream",
     "text": [
      "Вкажіть кількість сторінок: 1\n",
      "Парсинг сторінки: 1\n",
      "[[{'title': '2020 рік наблизив світ до глобальної катастрофи – кліматологи ЄС', 'link_news': 'https://www.unian.ua/ecology/2020-rik-nabliziv-svit-do-globalnoji-katastrofi-11281406.html', 'data': '05:15, 12 січня 2021'}, {'title': 'Небезпечний астероїд наближається до Землі: його можна буде побачити', 'link_news': 'https://www.unian.ua/science/asterojid-nebezpechniy-asterojid-nablizhayetsya-do-zemli-yogo-mozhna-bude-pobachiti-novini-11281361.html', 'data': '17:36, 11 січня 2021'}, {'title': 'Microsoft презентувала новий контролер для Xbox Series X', 'link_news': 'https://www.unian.ua/games/microsoft-prezentuvala-noviy-kontroler-dlya-xbox-series-x-igri-11281244.html', 'data': '16:49, 11 січня 2021'}, {'title': 'Трамп vs Twitter: в ЄС засудили блокування акаунта президента США', 'link_news': 'https://www.unian.ua/science/v-yes-zasudili-blokuvannya-trampa-v-twitter-novini-11281067.html', 'data': '15:32, 11 січня 2021'}, {'title': 'У GTA 6 головною героїнею буде жінка – інсайдер', 'link_news': 'https://www.unian.ua/games/gta-6-u-noviy-gri-golovnoyu-gerojineyu-bude-zhinka-igri-11280779.html', 'data': '13:22, 11 січня 2021'}, {'title': 'У Британії чоловік освідчився жінці за допомогою робота для дистанційних доставок під час локдауну (відео)', 'link_news': 'https://www.unian.ua/health/intimacy/koronavirus-u-britaniji-cholovik-osvidchivsya-zhinci-za-dopomogoyu-robota-dlya-distanciynih-dostavok-pid-chas-lokdaunu-video-11280536.html', 'data': '11:19, 11 січня 2021'}, {'title': 'Hubble сфотографував галактику, що схожа на Чумацький Шлях (фото)', 'link_news': 'https://www.unian.ua/science/hubble-sfotografuvav-galaktiku-shcho-shozha-na-chumackiy-shlyah-novini-11280527.html', 'data': '11:18, 11 січня 2021'}, {'title': 'Влада Польщі перевірить CD Projekt через проблеми з Cyberpunk 2077', 'link_news': 'https://www.unian.ua/games/vlada-polshchi-perevirit-cd-projekt-cherez-problemi-z-cyberpunk-2077-igri-11280443.html', 'data': '10:39, 11 січня 2021'}, {'title': 'WhatsApp підтвердив, що буде передавати Facebook особисті дані користувачів', 'link_news': 'https://www.unian.ua/economics/telecom/whatsapp-poperediv-koristuvachiv-pro-te-shcho-jih-personalna-informaciya-bude-peredavatisya-facebook-novini-11280086.html', 'data': '17:42, 10 січня 2021'}, {'title': 'Першому iPhone виповнилося 14 років: як він виглядав і що вмів (фото)', 'link_news': 'https://www.unian.ua/economics/telecom/14-rokiv-tomu-predstavili-pershiy-iphone-novini-11280071.html', 'data': '17:14, 10 січня 2021'}]]\n"
     ]
    }
   ],
   "source": [
    "parser()"
   ]
  },
  {
   "cell_type": "code",
   "execution_count": null,
   "metadata": {},
   "outputs": [],
   "source": []
  },
  {
   "cell_type": "code",
   "execution_count": null,
   "metadata": {},
   "outputs": [],
   "source": []
  }
 ],
 "metadata": {
  "kernelspec": {
   "display_name": "Python 3",
   "language": "python",
   "name": "python3"
  },
  "language_info": {
   "codemirror_mode": {
    "name": "ipython",
    "version": 3
   },
   "file_extension": ".py",
   "mimetype": "text/x-python",
   "name": "python",
   "nbconvert_exporter": "python",
   "pygments_lexer": "ipython3",
   "version": "3.8.3"
  }
 },
 "nbformat": 4,
 "nbformat_minor": 4
}
