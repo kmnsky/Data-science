{
 "cells": [
  {
   "cell_type": "code",
   "execution_count": 1,
   "metadata": {},
   "outputs": [],
   "source": [
    "import sqlite3 as sq"
   ]
  },
  {
   "cell_type": "code",
   "execution_count": null,
   "metadata": {},
   "outputs": [],
   "source": [
    "with sq.connect('tysql.sqlite') as con:\n",
    "    cur = con.cursor()\n",
    "    \n",
    "    cur.execute(\"\"\"\n",
    "    \"\"\")"
   ]
  },
  {
   "cell_type": "code",
   "execution_count": 12,
   "metadata": {},
   "outputs": [],
   "source": [
    "def result(sql_text):\n",
    "    con = sq.connect('tysql.sqlite')\n",
    "    cur = con.cursor()\n",
    "    cur.execute(sql_text)\n",
    "    \n",
    "    for row in cur.fetchall():\n",
    "        print(row)\n",
    "    \n",
    "    con.close()"
   ]
  },
  {
   "cell_type": "code",
   "execution_count": 2,
   "metadata": {},
   "outputs": [],
   "source": [
    "def req_sql(sql_text, *args):\n",
    "    con = sq.connect('tysql.sqlite')\n",
    "    cur = con.cursor()\n",
    "    result = cur.execute(sql_text,(*args)).fetchall()\n",
    "    con.close()\n",
    "    return result\n",
    "\n",
    "def req_print(sql_text):\n",
    "    r = req_sql(sql_text)\n",
    "    for row in r:\n",
    "        print(row)"
   ]
  },
  {
   "cell_type": "code",
   "execution_count": 31,
   "metadata": {},
   "outputs": [
    {
     "name": "stdout",
     "output_type": "stream",
     "text": [
      "('Customers',)\n",
      "('OrderItems',)\n",
      "('Orders',)\n",
      "('Products',)\n",
      "('Vendors',)\n"
     ]
    }
   ],
   "source": [
    "# Список всіх таблиць:\n",
    "script_1 = \"\"\"\n",
    "SELECT name FROM sqlite_master WHERE type='table'\n",
    "\"\"\"\n",
    "req_print(script_1)"
   ]
  },
  {
   "cell_type": "code",
   "execution_count": 27,
   "metadata": {},
   "outputs": [
    {
     "name": "stdout",
     "output_type": "stream",
     "text": [
      "Customers\n",
      "(0, 'cust_id', 'char(10)', 1, None, 1)\n",
      "(1, 'cust_name', 'char(50)', 1, None, 0)\n",
      "(2, 'cust_address', 'char(50)', 0, None, 0)\n",
      "(3, 'cust_city', 'char(50)', 0, None, 0)\n",
      "(4, 'cust_state', 'char(5)', 0, None, 0)\n",
      "(5, 'cust_zip', 'char(10)', 0, None, 0)\n",
      "(6, 'cust_country', 'char(50)', 0, None, 0)\n",
      "(7, 'cust_contact', 'char(50)', 0, None, 0)\n",
      "(8, 'cust_email', 'char(255)', 0, None, 0)\n",
      "\n",
      "OrderItems\n",
      "(0, 'order_num', 'int', 1, None, 1)\n",
      "(1, 'order_item', 'int', 1, None, 2)\n",
      "(2, 'prod_id', 'char(10)', 1, None, 0)\n",
      "(3, 'quantity', 'int', 1, None, 0)\n",
      "(4, 'item_price', 'decimal(8,2)', 1, None, 0)\n",
      "\n",
      "Orders\n",
      "(0, 'order_num', 'int', 1, None, 1)\n",
      "(1, 'order_date', 'datetime', 1, None, 0)\n",
      "(2, 'cust_id', 'char(10)', 1, None, 0)\n",
      "\n",
      "Products\n",
      "(0, 'prod_id', 'char(10)', 1, None, 1)\n",
      "(1, 'vend_id', 'char(10)', 1, None, 0)\n",
      "(2, 'prod_name', 'char(255)', 1, None, 0)\n",
      "(3, 'prod_price', 'decimal(8,2)', 1, None, 0)\n",
      "(4, 'prod_desc', 'text', 0, None, 0)\n",
      "\n",
      "Vendors\n",
      "(0, 'vend_id', 'char(10)', 1, None, 1)\n",
      "(1, 'vend_name', 'char(50)', 1, None, 0)\n",
      "(2, 'vend_address', 'char(50)', 0, None, 0)\n",
      "(3, 'vend_city', 'char(50)', 0, None, 0)\n",
      "(4, 'vend_state', 'char(5)', 0, None, 0)\n",
      "(5, 'vend_zip', 'char(10)', 0, None, 0)\n",
      "(6, 'vend_country', 'char(50)', 0, None, 0)\n",
      "\n"
     ]
    }
   ],
   "source": [
    "# Інформація про поля таблиць:\n",
    "tables = req_sql('SELECT name FROM sqlite_master WHERE type=\"table\"')\n",
    "tables = [i[0] for i in tables]\n",
    "for i in tables:\n",
    "    print(i)\n",
    "    sql_text = 'PRAGMA table_info (%s)' %i\n",
    "    req_print(sql_text)\n",
    "    print()"
   ]
  },
  {
   "cell_type": "code",
   "execution_count": 30,
   "metadata": {},
   "outputs": [
    {
     "name": "stdout",
     "output_type": "stream",
     "text": [
      "('1000000001',)\n",
      "('1000000002',)\n",
      "('1000000003',)\n",
      "('1000000004',)\n",
      "('1000000005',)\n"
     ]
    }
   ],
   "source": [
    "# Список всіх cust_id з таблиці Customers:\n",
    "script_2 = \"\"\"\n",
    "SELECT cust_id \n",
    "FROM Customers\n",
    "\"\"\"\n",
    "req_print(script_2)"
   ]
  },
  {
   "cell_type": "code",
   "execution_count": 32,
   "metadata": {},
   "outputs": [
    {
     "name": "stdout",
     "output_type": "stream",
     "text": [
      "('1000000001', 'Village Toys', '200 Maple Lane', 'Detroit', 'MI', '44444', 'USA', 'John Smith', 'sales@villagetoys.com')\n",
      "('1000000002', 'Kids Place', '333 South Lake Drive', 'Columbus', 'OH', '43333', 'USA', 'Michelle Green', None)\n",
      "('1000000003', 'Fun4All', '1 Sunny Place', 'Muncie', 'IN', '42222', 'USA', 'Jim Jones', 'jjones@fun4all.com')\n",
      "('1000000004', 'Fun4All', '829 Riverside Drive', 'Phoenix', 'AZ', '88888', 'USA', 'Denise L. Stephens', 'dstephens@fun4all.com')\n",
      "('1000000005', 'The Toy Store', '4545 53rd Street', 'Chicago', 'IL', '54545', 'USA', 'Kim Howard', None)\n"
     ]
    }
   ],
   "source": [
    "# Вся таблиця Customer Table:\n",
    "script_3 = \"\"\"\n",
    "SELECT * \n",
    "FROM Customers\n",
    "\"\"\"\n",
    "req_print(script_3)"
   ]
  },
  {
   "cell_type": "code",
   "execution_count": 38,
   "metadata": {},
   "outputs": [
    {
     "name": "stdout",
     "output_type": "stream",
     "text": [
      "('Village Toys',)\n",
      "('The Toy Store',)\n",
      "('Kids Place',)\n",
      "('Fun4All',)\n"
     ]
    }
   ],
   "source": [
    "# Список клієнтів (cust_name) відсортованих від Z до A:\n",
    "script_4 = \"\"\"\n",
    "SELECT DISTINCT cust_name \n",
    "FROM Customers\n",
    "ORDER BY 1 DESC\n",
    "\"\"\"\n",
    "req_print(script_4)"
   ]
  },
  {
   "cell_type": "code",
   "execution_count": 44,
   "metadata": {},
   "outputs": [
    {
     "name": "stdout",
     "output_type": "stream",
     "text": [
      "('1000000001', 20005)\n",
      "('1000000001', 20009)\n",
      "('1000000003', 20006)\n",
      "('1000000004', 20007)\n",
      "('1000000005', 20008)\n"
     ]
    }
   ],
   "source": [
    "# Таблиця клієнтів та замовлень (cust_id, order_num) відсортованих по клієнту та даті замовлення:\n",
    "script_5 = \"\"\"\n",
    "SELECT cust_id, order_num\n",
    "FROM Orders\n",
    "ORDER BY cust_id, order_num\n",
    "\"\"\"\n",
    "req_print(script_5)"
   ]
  },
  {
   "cell_type": "code",
   "execution_count": 23,
   "metadata": {},
   "outputs": [
    {
     "name": "stdout",
     "output_type": "stream",
     "text": [
      "Відсортуйте в порядку спадання по кількості\n",
      "(250, 2.49)\n",
      "(250, 2.49)\n",
      "(250, 2.49)\n",
      "(100, 5.49)\n",
      "(100, 10.99)\n",
      "(100, 2.99)\n",
      "(100, 2.99)\n",
      "(100, 2.99)\n",
      "(50, 11.49)\n",
      "(50, 4.49)\n",
      "(20, 5.99)\n",
      "(10, 8.99)\n",
      "(10, 11.99)\n",
      "(10, 3.49)\n",
      "(10, 3.49)\n",
      "(10, 3.49)\n",
      "(5, 4.99)\n",
      "(5, 11.99)\n",
      "\n",
      "Відсортуйте в порядку спадання по вартості\n",
      "(11.99, 10)\n",
      "(11.99, 5)\n",
      "(11.49, 50)\n",
      "(10.99, 100)\n",
      "(8.99, 10)\n",
      "(5.99, 20)\n",
      "(5.49, 100)\n",
      "(4.99, 5)\n",
      "(4.49, 50)\n",
      "(3.49, 10)\n",
      "(3.49, 10)\n",
      "(3.49, 10)\n",
      "(2.99, 100)\n",
      "(2.99, 100)\n",
      "(2.99, 100)\n",
      "(2.49, 250)\n",
      "(2.49, 250)\n",
      "(2.49, 250)\n"
     ]
    }
   ],
   "source": [
    "# Таблиця на основі Items з кількістю та вартістю товару. Відсортуйте в порядку спадання по кількості та вартості\n",
    "script_6 = \"\"\"\n",
    "SELECT quantity, item_price\n",
    "FROM OrderItems\n",
    "ORDER BY 1 DESC\n",
    "\"\"\"\n",
    "print('Відсортуйте в порядку спадання по кількості')\n",
    "req_print(script_6)\n",
    "\n",
    "script_7 = \"\"\"\n",
    "SELECT item_price, quantity\n",
    "FROM OrderItems\n",
    "ORDER BY 1 DESC\n",
    "\"\"\"\n",
    "print()\n",
    "print('Відсортуйте в порядку спадання по вартості')\n",
    "req_print(script_7)"
   ]
  },
  {
   "cell_type": "code",
   "execution_count": 61,
   "metadata": {},
   "outputs": [
    {
     "name": "stdout",
     "output_type": "stream",
     "text": [
      "('King doll',)\n",
      "('Queen doll',)\n"
     ]
    }
   ],
   "source": [
    "# Товар з таблиці Products, ціна якого становить 9.49\n",
    "script_8 = \"\"\"\n",
    "SELECT prod_name\n",
    "FROM Products\n",
    "WHERE prod_price = 9.49\n",
    "\"\"\"\n",
    "req_print(script_8)"
   ]
  },
  {
   "cell_type": "code",
   "execution_count": 64,
   "metadata": {},
   "outputs": [
    {
     "name": "stdout",
     "output_type": "stream",
     "text": [
      "('Fish bean bag toy', 3.49)\n",
      "('Bird bean bag toy', 3.49)\n",
      "('Rabbit bean bag toy', 3.49)\n",
      "('Raggedy Ann', 4.99)\n",
      "('8 inch teddy bear', 5.99)\n"
     ]
    }
   ],
   "source": [
    "# Назва товару, ціна якого в діапазоні від 3 до 6. Відсортуйте по ціні в порядку зростання\n",
    "script_9 = \"\"\"\n",
    "SELECT prod_name, prod_price\n",
    "FROM Products\n",
    "WHERE prod_price > 3 AND prod_price < 6\n",
    "ORDER BY prod_price \n",
    "\"\"\"\n",
    "req_print(script_9)"
   ]
  },
  {
   "cell_type": "code",
   "execution_count": 108,
   "metadata": {},
   "outputs": [
    {
     "name": "stdout",
     "output_type": "stream",
     "text": [
      "('BNBG01', 360)\n",
      "('BNBG02', 360)\n",
      "('BNBG03', 360)\n",
      "('BR01', 120)\n",
      "('BR02', 10)\n",
      "('BR03', 165)\n",
      "('RGAN01', 55)\n",
      "('Всього продано:', 1430)\n"
     ]
    }
   ],
   "source": [
    "# Кількість товару, що було продано\n",
    "script_10 = \"\"\"\n",
    "SELECT prod_id, SUM(quantity)\n",
    "FROM OrderItems\n",
    "GROUP BY prod_id\n",
    "\n",
    "UNION\n",
    "\n",
    "SELECT 'Всього продано:', SUM(quantity)\n",
    "FROM OrderItems\n",
    "\"\"\"\n",
    "req_print(script_10)"
   ]
  },
  {
   "cell_type": "code",
   "execution_count": 109,
   "metadata": {},
   "outputs": [
    {
     "name": "stdout",
     "output_type": "stream",
     "text": [
      "('Кількість найменувань товару:', 6)\n"
     ]
    }
   ],
   "source": [
    "# Кількість найменувань товару, ціна якого > 4\n",
    "script_11 = \"\"\"\n",
    "SELECT 'Кількість найменувань товару:', count(prod_id)\n",
    "FROM Products\n",
    "WHERE prod_price > 4\n",
    "\n",
    "\"\"\"\n",
    "req_print(script_11)"
   ]
  },
  {
   "cell_type": "code",
   "execution_count": 5,
   "metadata": {},
   "outputs": [
    {
     "name": "stdout",
     "output_type": "stream",
     "text": [
      "('18 inch teddy bear', 11.99)\n",
      "('King doll', 9.49)\n",
      "('Queen doll', 9.49)\n"
     ]
    }
   ],
   "source": [
    "# 3 найдорожчі товари в базі\n",
    "script_12 = \"\"\"\n",
    "SELECT prod_name, prod_price\n",
    "FROM Products \n",
    "ORDER BY 2 DESC\n",
    "LIMIT 3\n",
    "\"\"\"\n",
    "req_print(script_12)"
   ]
  },
  {
   "cell_type": "code",
   "execution_count": 11,
   "metadata": {},
   "outputs": [
    {
     "name": "stdout",
     "output_type": "stream",
     "text": [
      "('1000000001', 2)\n",
      "('1000000003', 1)\n",
      "('1000000004', 1)\n",
      "('1000000005', 1)\n"
     ]
    }
   ],
   "source": [
    "# Кількість замовлень для кожного клієнта (використовуючи підзапити)\n",
    "script_13 = \"\"\"\n",
    "SELECT cust_id AS Qty, SUM(1)\n",
    "FROM (SELECT cust_id FROM Orders)\n",
    "GROUP BY cust_id\n",
    "\"\"\"\n",
    "req_print(script_13)\n",
    "\n"
   ]
  },
  {
   "cell_type": "code",
   "execution_count": 13,
   "metadata": {},
   "outputs": [
    {
     "name": "stdout",
     "output_type": "stream",
     "text": [
      "('Village Toys', 20005)\n",
      "('Fun4All', 20006)\n",
      "('Fun4All', 20007)\n",
      "('The Toy Store', 20008)\n",
      "('Village Toys', 20009)\n"
     ]
    }
   ],
   "source": [
    "# Список клієнтів та їх замовлень (використовуючи JOIN)\n",
    "script_14 = \"\"\"\n",
    "SELECT cust_name, order_num\n",
    "FROM Customers\n",
    "JOIN Orders ON Orders.cust_id = Customers.cust_id\n",
    "\"\"\"\n",
    "req_print(script_14)\n"
   ]
  },
  {
   "cell_type": "code",
   "execution_count": 17,
   "metadata": {},
   "outputs": [
    {
     "name": "stdout",
     "output_type": "stream",
     "text": [
      "('12 inch teddy bear', 8.99)\n",
      "('18 inch teddy bear', 11.99)\n",
      "('8 inch teddy bear', 5.99)\n",
      "('Bird bean bag toy', 3.49)\n",
      "('Fish bean bag toy', 3.49)\n",
      "('King doll', 9.49)\n",
      "('Queen doll', 9.49)\n",
      "('Rabbit bean bag toy', 3.49)\n",
      "('Raggedy Ann', 4.99)\n"
     ]
    }
   ],
   "source": [
    "# Список товарів, ціна яких < 5; список товарів, ціна яких >=5; використати UNION для об'єднання\n",
    "script_15 = \"\"\"\n",
    "SELECT prod_name, prod_price\n",
    "FROM Products\n",
    "WHERE prod_price < 5\n",
    "\n",
    "UNION\n",
    "\n",
    "SELECT prod_name, prod_price\n",
    "FROM Products\n",
    "WHERE prod_price >= 5\n",
    "\"\"\"\n",
    "req_print(script_15)"
   ]
  }
 ],
 "metadata": {
  "kernelspec": {
   "display_name": "Python 3",
   "language": "python",
   "name": "python3"
  },
  "language_info": {
   "codemirror_mode": {
    "name": "ipython",
    "version": 3
   },
   "file_extension": ".py",
   "mimetype": "text/x-python",
   "name": "python",
   "nbconvert_exporter": "python",
   "pygments_lexer": "ipython3",
   "version": "3.8.3"
  }
 },
 "nbformat": 4,
 "nbformat_minor": 4
}
